{
 "cells": [
  {
   "cell_type": "markdown",
   "metadata": {},
   "source": [
    "# 1. Intro\n",
    "\n",
    "leaky integrate-fire computational model of the drosophila brain, based on neural connectivity and neurotransmitter identity."
   ]
  },
  {
   "cell_type": "markdown",
   "metadata": {},
   "source": [
    "## connectome database\n",
    "\n",
    "1. Dolan 2014; doi:10.7554/eLife.43079\n",
    "2. Ohyama 2015; doi:10.1038/nature14297\n",
    "3. Huang 2018; doi:10.3389/fninf.2018.00099\n",
    "4. Zheng 2018; doi:10.1016/j.cell.2018.06.019\n",
    "5. Meinertzhagen 2018; doi:10.1242/jeb.164954\n",
    "6. Bates 2020; doi:10.1016/j.cub.2020.06.042\n",
    "7. Schlegel 2020; doi:10.1101/2020.12.15.401257\n",
    "8.  Scheffer 2020; doi:10.1242/jeb.242740\n",
    "9.  Marin 2020; doi:10.1016/j.cub.2020.06.028\n",
    "10. Dorkenwald 2022; doi:10.1038/s41592-021-01330-0\n",
    "11. Lappalainen 2023; doi:10.1101/2023.03.11.532232\n",
    "12. Winding 2023; doi:10.1126/science.add9330\n",
    "13. Flywire 2023. doi:10.1038/s41592-021-01330-0"
   ]
  },
  {
   "cell_type": "markdown",
   "metadata": {},
   "source": [
    "## Integrate-fire model\n",
    "\n",
    "To model visual processing, consider integrate-fire model using the weights from reconstructed EM neurons:\n",
    "1. Kakaria 2017; doi:10.3389/fnbeh.2017.00008\n",
    "2. Pisokas 2020; doi:10.7554/eLife.53985\n",
    "3. Churgin 2021; doi:10.1101/2021.12.24.474127\n",
    "\n",
    "As well as neurotransmitter predictions for each neuron:\n",
    "1. Buhmann 2019; doi:10.1038/s41592-021-01183-7\n",
    "2. "
   ]
  }
 ],
 "metadata": {
  "language_info": {
   "name": "python"
  }
 },
 "nbformat": 4,
 "nbformat_minor": 2
}
