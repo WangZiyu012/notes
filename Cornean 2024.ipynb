{
 "cells": [
  {
   "cell_type": "markdown",
   "metadata": {},
   "source": [
    "# Intro\n",
    "\n",
    "Cell types are stereotypically organized in parallel visual columns, which retinotopically cover visual space.\n",
    "\n",
    "This repetitive structure ensures the parallel processing of visual features. Each part of the visual system can extract the same infomation across visual space, including info about luminance, color contrast, edges, direction of local motion. Within these structures, the homogeneous connectivity of individual cell types is considered a common design principle of diverse visual systems. As a consequence, cells of one type are considered anatomically, genetically, and functionally uniform.\n",
    "\n",
    "Some evidence argues for the diverse of synaptic wiring in the fly visual system. \n",
    "1. brain wiring might differ between individual units of the same eye, as well as between individual animals growing up.\n",
    "2. variable physiological properties have been described in Tm9.\n",
    "\n",
    "investigate the wiring variability of Tm9 input in the FAFB using Flywire analisis."
   ]
  }
 ],
 "metadata": {
  "language_info": {
   "name": "python"
  }
 },
 "nbformat": 4,
 "nbformat_minor": 2
}
